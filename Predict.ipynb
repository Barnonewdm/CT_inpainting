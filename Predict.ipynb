{
 "cells": [
  {
   "cell_type": "code",
   "execution_count": null,
   "metadata": {
    "scrolled": true
   },
   "outputs": [
    {
     "name": "stdout",
     "output_type": "stream",
     "text": [
      "(512, 512, 3)\n",
      "(512, 512, 4)\n",
      "(512, 512, 3)\n",
      "255\n",
      "(512, 512, 3)\n"
     ]
    }
   ],
   "source": [
    "from skimage import io\n",
    "from copy import deepcopy\n",
    "import numpy as np\n",
    "import os\n",
    "from libs.pconv_model import PConvUnet\n",
    "from matplotlib import pyplot as plt\n",
    "\n",
    "\n",
    "os.environ[\"CUDA_VISIBLE_DEVICES\"] = \"3\"\n",
    "test_path = \"./data/liver_image/test/ct/\"\n",
    "ori = io.imread(test_path + 'img/' + 'test_CT_8.png')\n",
    "print(ori.shape)\n",
    "mask = io.imread(test_path + 'mask/' + 'test_CT_8.png')\n",
    "print(mask.shape)\n",
    "\n",
    "if mask.shape[2] != 3:\n",
    "    mask = mask[:, :, 0:3]\n",
    "print(mask.shape)\n",
    "# print(np.max(mask))\n",
    "mask = mask / 255.\n",
    "mask = 1 - mask\n",
    "print (ori.max())\n",
    "ori = ori / ori.max()\n",
    "\n",
    "masked = deepcopy(ori)\n",
    "masked[mask==0] = 1\n",
    "print(masked.shape)\n",
    "\n",
    "ori = np.expand_dims(ori, axis=0)\n",
    "mask = np.expand_dims(mask, axis=0)\n",
    "masked = np.expand_dims(masked, axis=0)\n",
    "\n",
    "model = PConvUnet(weight_filepath='data/logs_ct/')\n",
    "model.load(\"data/logs_ct/134_weights_2018-11-29-12-42-14.h5\")\n",
    "pred_img = model.predict([masked, mask])\n",
    "\n",
    "_, axes = plt.subplots(1, 2, figsize=(20, 5))\n",
    "axes[0].imshow(ori[0])\n",
    "axes[1].imshow(masked)\n",
    "axes[2].imshow(pred_img[0] * 1.)\n",
    "axes[0].set_title('Original Image')\n",
    "axes[1].set_title('Masked Image')\n",
    "axes[2].set_title('Predicted Image')\n",
    "plt.savefig(r'data/liver_image/test/img_result.png')\n",
    "plt.show()\n",
    "plt.close()"
   ]
  },
  {
   "cell_type": "code",
   "execution_count": null,
   "metadata": {},
   "outputs": [],
   "source": []
  }
 ],
 "metadata": {
  "kernelspec": {
   "display_name": "Python 3",
   "language": "python",
   "name": "python3"
  },
  "language_info": {
   "codemirror_mode": {
    "name": "ipython",
    "version": 3
   },
   "file_extension": ".py",
   "mimetype": "text/x-python",
   "name": "python",
   "nbconvert_exporter": "python",
   "pygments_lexer": "ipython3",
   "version": "3.6.5"
  }
 },
 "nbformat": 4,
 "nbformat_minor": 2
}
